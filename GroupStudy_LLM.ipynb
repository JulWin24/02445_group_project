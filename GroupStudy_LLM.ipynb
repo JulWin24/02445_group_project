{
 "cells": [
  {
   "cell_type": "code",
   "execution_count": 453,
   "metadata": {},
   "outputs": [],
   "source": [
    "import pandas as pd\n",
    "import numpy as np\n",
    "from sklearn.preprocessing import LabelEncoder\n",
    "from statsmodels.stats.proportion import proportion_confint\n",
    "import scipy.stats as st\n",
    "import matplotlib.pyplot as plt\n",
    "import seaborn as sns\n",
    "from statsmodels.stats.contingency_tables import cochrans_q, mcnemar"
   ]
  },
  {
   "cell_type": "code",
   "execution_count": 454,
   "metadata": {},
   "outputs": [],
   "source": [
    "df = pd.read_csv('LLM_exam_dataset.csv')\n",
    "df = df.drop(['Unnamed: 2','Unnamed: 6','Unnamed: 10','General promt'], axis=1)\n",
    "sns.set_palette('pastel')"
   ]
  },
  {
   "cell_type": "markdown",
   "metadata": {},
   "source": [
    "# Data"
   ]
  },
  {
   "cell_type": "markdown",
   "metadata": {},
   "source": [
    "Encoding machine learning data"
   ]
  },
  {
   "cell_type": "code",
   "execution_count": 455,
   "metadata": {},
   "outputs": [],
   "source": [
    "encode = LabelEncoder()\n",
    "\n",
    "df_ML = df[df['Exam set and course'].str.contains('ML', na=False)].copy()\n",
    "\n",
    "combined_series = pd.concat([df_ML['Correct answer'], df_ML['Chat GPT 4o'], df_ML['Chat GPT 4'], df_ML['Gemini Advance']])\n",
    "\n",
    "encode = LabelEncoder()\n",
    "encode.fit(combined_series)\n",
    "\n",
    "df_ML['Correct answer'] = encode.fit_transform(df_ML['Correct answer'])\n",
    "df_ML['Chat GPT 4o'] = encode.fit_transform(df_ML['Chat GPT 4o'])\n",
    "df_ML['Chat GPT 4'] = encode.fit_transform(df_ML['Chat GPT 4'])\n",
    "df_ML['Gemini Advance'] = encode.fit_transform(df_ML['Gemini Advance'])\n",
    "\n",
    "df[df['Exam set and course'].str.contains('ML', na=False)] = df_ML"
   ]
  },
  {
   "cell_type": "code",
   "execution_count": 456,
   "metadata": {},
   "outputs": [],
   "source": [
    "LLM = ['Chat GPT 4o','Chat GPT 4','Gemini Advance']\n",
    "\n",
    "def mean_correct(df):\n",
    "    return np.mean(df['Chat GPT 4o']==df['Correct answer']), np.mean(df['Chat GPT 4']==df['Correct answer']), np.mean(df['Gemini Advance']==df['Correct answer'])\n",
    "\n",
    "def confidence_intercval(df):\n",
    "    GPT4o_correct = df['Chat GPT 4o']==df['Correct answer']\n",
    "    GPT4_correct = df['Chat GPT 4']==df['Correct answer']\n",
    "    Gemini_correct = df['Gemini Advance']==df['Correct answer']\n",
    "\n",
    "    return [proportion_confint(np.sum(GPT4o_correct), len(GPT4o_correct)), proportion_confint(np.sum(GPT4_correct), len(GPT4_correct)), proportion_confint(np.sum(Gemini_correct), len(Gemini_correct))]\n",
    "\n",
    "def cochrans(df):\n",
    "    GPT4o_correct = df['Chat GPT 4o']==df['Correct answer']\n",
    "    GPT4_correct = df['Chat GPT 4']==df['Correct answer']\n",
    "    Gemini_correct = df['Gemini Advance']==df['Correct answer']\n",
    "\n",
    "    print(cochrans_q([GPT4o_correct,GPT4_correct,Gemini_correct]))\n",
    "\n",
    "def McNemar(df):\n",
    "    GPT4o_correct = df['Chat GPT 4o']==df['Correct answer']\n",
    "    GPT4_correct = df['Chat GPT 4']==df['Correct answer']\n",
    "    Gemini_correct = df['Gemini Advance']==df['Correct answer']\n",
    "\n",
    "    print(mcnemar([GPT4o_correct,Gemini_correct]))\n",
    "    \n",
    "\n",
    "def dunns(df):\n",
    "    GPT4o_correct = df['Chat GPT 4o']==df['Correct answer']\n",
    "    GPT4_correct = df['Chat GPT 4']==df['Correct answer']\n",
    "    Gemini_correct = df['Gemini Advance']==df['Correct answer']\n",
    "\n",
    "    dunn = posthoc_dunn([GPT4o_correct,GPT4_correct,Gemini_correct], p_adjust='bonferroni',val_col='value', group_col='group',)\n",
    "\n",
    "    dunn.columns = LLM\n",
    "    dunn.index = LLM\n",
    "\n",
    "    return dunn"
   ]
  },
  {
   "cell_type": "markdown",
   "metadata": {},
   "source": [
    "# All data"
   ]
  },
  {
   "cell_type": "code",
   "execution_count": 457,
   "metadata": {},
   "outputs": [],
   "source": [
    "GPT4o_correct = df['Chat GPT 4o']==df['Correct answer']\n",
    "GPT4_correct = df['Chat GPT 4']==df['Correct answer']\n",
    "Gemini_correct = df['Gemini Advance']==df['Correct answer']"
   ]
  },
  {
   "cell_type": "code",
   "execution_count": 458,
   "metadata": {},
   "outputs": [
    {
     "data": {
      "text/plain": [
       "(0.6783625730994152, 0.6257309941520468, 0.49707602339181284)"
      ]
     },
     "execution_count": 458,
     "metadata": {},
     "output_type": "execute_result"
    }
   ],
   "source": [
    "mean_correct(df)"
   ]
  },
  {
   "cell_type": "code",
   "execution_count": 459,
   "metadata": {},
   "outputs": [
    {
     "data": {
      "text/plain": [
       "[(0.6083518981124314, 0.7483732480863989),\n",
       " (0.5531979672957567, 0.698264021008337),\n",
       " (0.42213620886257885, 0.5720158379210468)]"
      ]
     },
     "execution_count": 459,
     "metadata": {},
     "output_type": "execute_result"
    }
   ],
   "source": [
    "confidence_intercval(df)"
   ]
  },
  {
   "cell_type": "code",
   "execution_count": 460,
   "metadata": {},
   "outputs": [
    {
     "name": "stderr",
     "output_type": "stream",
     "text": [
      "No artists with labels found to put in legend.  Note that artists whose label start with an underscore are ignored when legend() is called with no argument.\n"
     ]
    },
    {
     "data": {
      "image/png": "[encoded data removed]",
      "text/plain": [
       "<Figure size 640x480 with 1 Axes>"
      ]
     },
     "metadata": {},
     "output_type": "display_data"
    }
   ],
   "source": [
    "LLM = ['Chat GPT 4o', 'Chat GPT 4', 'Gemini 1.5 Pro']\n",
    "\n",
    "confidence_intercval_all = confidence_intercval(df)\n",
    "mean_all = mean_correct(df)\n",
    "all_error = [(high - low) / 2 for low, high in confidence_intercval_all]\n",
    "\n",
    "bar_width = 0.4\n",
    "index = np.arange(len(LLM))\n",
    "\n",
    "fig, ax = plt.subplots()\n",
    "\n",
    "colors = ['#FFB266', '#66B2FF', '#FF6666']\n",
    "\n",
    "bars1 = ax.bar(index, mean_all, bar_width, yerr=all_error, capsize=5, color=colors)\n",
    "\n",
    "ax.set_xlabel('Model')\n",
    "ax.set_ylabel('Accuracy score')\n",
    "ax.set_xticks(index)\n",
    "ax.set_xticklabels(LLM)\n",
    "ax.legend()\n",
    "\n",
    "plt.tight_layout()\n",
    "# plt.savefig('Bar_plot_all_data.png', dpi=300, bbox_inches='tight')\n",
    "plt.show()"
   ]
  },
  {
   "cell_type": "code",
   "execution_count": 461,
   "metadata": {},
   "outputs": [
    {
     "name": "stdout",
     "output_type": "stream",
     "text": [
      "df          170\n",
      "pvalue      2.5910275329631083e-07\n",
      "statistic   279.1781088713604\n"
     ]
    }
   ],
   "source": [
    "cochrans(df)"
   ]
  },
  {
   "cell_type": "code",
   "execution_count": 462,
   "metadata": {},
   "outputs": [
    {
     "name": "stdout",
     "output_type": "stream",
     "text": [
      "pvalue      6.530630444913366e-05\n",
      "statistic   14.0\n",
      "pvalue      0.005354859650800294\n",
      "statistic   18.0\n",
      "pvalue      0.2806097176983541\n",
      "statistic   23.0\n"
     ]
    }
   ],
   "source": [
    "crosstab = pd.crosstab(GPT4o_correct, Gemini_correct)\n",
    "print(mcnemar(crosstab))\n",
    "\n",
    "crosstab = pd.crosstab(GPT4_correct, Gemini_correct)\n",
    "print(mcnemar(crosstab))\n",
    "\n",
    "crosstab = pd.crosstab(GPT4_correct, GPT4o_correct)\n",
    "print(mcnemar(crosstab))"
   ]
  },
  {
   "cell_type": "markdown",
   "metadata": {},
   "source": [
    "# Machine learning and Data Mining"
   ]
  },
  {
   "cell_type": "code",
   "execution_count": 463,
   "metadata": {},
   "outputs": [],
   "source": [
    "GPT4o_correct_ml = df[df['Exam set and course'].str.contains('ML', na=False)]['Chat GPT 4o']==df[df['Exam set and course'].str.contains('ML', na=False)]['Correct answer']\n",
    "GPT4_correct_ml = df[df['Exam set and course'].str.contains('ML', na=False)]['Chat GPT 4']==df[df['Exam set and course'].str.contains('ML', na=False)]['Correct answer']\n",
    "Gemini_correct_ml = df[df['Exam set and course'].str.contains('ML', na=False)]['Gemini Advance']==df[df['Exam set and course'].str.contains('ML', na=False)]['Correct answer']"
   ]
  },
  {
   "cell_type": "code",
   "execution_count": 464,
   "metadata": {},
   "outputs": [
    {
     "data": {
      "text/plain": [
       "(0.5185185185185185, 0.4691358024691358, 0.3333333333333333)"
      ]
     },
     "execution_count": 464,
     "metadata": {},
     "output_type": "execute_result"
    }
   ],
   "source": [
    "mean_correct(df[df['Exam set and course'].str.contains('ML', na=False)])"
   ]
  },
  {
   "cell_type": "code",
   "execution_count": 465,
   "metadata": {},
   "outputs": [
    {
     "data": {
      "text/plain": [
       "[(0.4097063384822368, 0.6273306985548002),\n",
       " (0.36045656344771804, 0.5778150414905535),\n",
       " (0.2306737907889127, 0.4359928758777539)]"
      ]
     },
     "execution_count": 465,
     "metadata": {},
     "output_type": "execute_result"
    }
   ],
   "source": [
    "confidence_intercval(df[df['Exam set and course'].str.contains('ML', na=False)])"
   ]
  },
  {
   "cell_type": "code",
   "execution_count": 466,
   "metadata": {},
   "outputs": [
    {
     "name": "stdout",
     "output_type": "stream",
     "text": [
      "df          80\n",
      "pvalue      0.006769659696587191\n",
      "statistic   114.6046511627907\n"
     ]
    }
   ],
   "source": [
    "cochrans(df[df['Exam set and course'].str.contains('ML', na=False)])"
   ]
  },
  {
   "cell_type": "code",
   "execution_count": 467,
   "metadata": {},
   "outputs": [
    {
     "name": "stdout",
     "output_type": "stream",
     "text": [
      "pvalue      0.016673847800120715\n",
      "statistic   10.0\n",
      "pvalue      0.06142834573984146\n",
      "statistic   9.0\n",
      "pvalue      0.5966148958541453\n",
      "statistic   14.0\n"
     ]
    }
   ],
   "source": [
    "crosstab = pd.crosstab(GPT4o_correct_ml, Gemini_correct_ml)\n",
    "print(mcnemar(crosstab))\n",
    "\n",
    "crosstab = pd.crosstab(GPT4_correct_ml, Gemini_correct_ml)\n",
    "print(mcnemar(crosstab))\n",
    "\n",
    "crosstab = pd.crosstab(GPT4_correct_ml, GPT4o_correct_ml)\n",
    "print(mcnemar(crosstab))"
   ]
  },
  {
   "cell_type": "markdown",
   "metadata": {},
   "source": [
    "# Introduction to Statistic"
   ]
  },
  {
   "cell_type": "code",
   "execution_count": 468,
   "metadata": {},
   "outputs": [],
   "source": [
    "GPT4o_correct_st = df[df['Exam set and course'].str.contains('ST', na=False)]['Chat GPT 4o']==df[df['Exam set and course'].str.contains('ST', na=False)]['Correct answer']\n",
    "GPT4_correct_st = df[df['Exam set and course'].str.contains('ST', na=False)]['Chat GPT 4']==df[df['Exam set and course'].str.contains('ST', na=False)]['Correct answer']\n",
    "Gemini_correct_st = df[df['Exam set and course'].str.contains('ST', na=False)]['Gemini Advance']==df[df['Exam set and course'].str.contains('ST', na=False)]['Correct answer']"
   ]
  },
  {
   "cell_type": "code",
   "execution_count": 469,
   "metadata": {},
   "outputs": [
    {
     "data": {
      "text/plain": [
       "(0.8222222222222222, 0.7666666666666667, 0.6444444444444445)"
      ]
     },
     "execution_count": 469,
     "metadata": {},
     "output_type": "execute_result"
    }
   ],
   "source": [
    "mean_correct(df[df['Exam set and course'].str.contains('ST', na=False)])"
   ]
  },
  {
   "cell_type": "code",
   "execution_count": 470,
   "metadata": {},
   "outputs": [
    {
     "data": {
      "text/plain": [
       "[(0.7432343930847254, 0.901210051359719),\n",
       " (0.6792853630379795, 0.854047970295354),\n",
       " (0.5455496771673091, 0.7433392117215799)]"
      ]
     },
     "execution_count": 470,
     "metadata": {},
     "output_type": "execute_result"
    }
   ],
   "source": [
    "confidence_intercval(df[df['Exam set and course'].str.contains('ST', na=False)])"
   ]
  },
  {
   "cell_type": "code",
   "execution_count": 471,
   "metadata": {},
   "outputs": [
    {
     "name": "stdout",
     "output_type": "stream",
     "text": [
      "df          89\n",
      "pvalue      0.0005179587206971141\n",
      "statistic   139.3586544887503\n"
     ]
    }
   ],
   "source": [
    "cochrans(df[df['Exam set and course'].str.contains('ST', na=False)])"
   ]
  },
  {
   "cell_type": "code",
   "execution_count": 472,
   "metadata": {},
   "outputs": [
    {
     "name": "stdout",
     "output_type": "stream",
     "text": [
      "pvalue      0.001543879508972168\n",
      "statistic   4.0\n",
      "pvalue      0.06142834573984146\n",
      "statistic   9.0\n",
      "pvalue      0.4048728942871094\n",
      "statistic   9.0\n"
     ]
    }
   ],
   "source": [
    "crosstab = pd.crosstab(GPT4o_correct_st, Gemini_correct_st)\n",
    "print(mcnemar(crosstab))\n",
    "\n",
    "crosstab = pd.crosstab(GPT4_correct_st, Gemini_correct_st)\n",
    "print(mcnemar(crosstab))\n",
    "\n",
    "crosstab = pd.crosstab(GPT4_correct_st, GPT4o_correct_st)\n",
    "print(mcnemar(crosstab))"
   ]
  },
  {
   "cell_type": "markdown",
   "metadata": {},
   "source": [
    "# Comparing different courses"
   ]
  },
  {
   "cell_type": "code",
   "execution_count": 473,
   "metadata": {},
   "outputs": [
    {
     "data": {
      "image/png": "[encoded data removed]",
      "text/plain": [
       "<Figure size 640x480 with 1 Axes>"
      ]
     },
     "metadata": {},
     "output_type": "display_data"
    }
   ],
   "source": [
    "LLM = ['Chat GPT 4o','Chat GPT 4','Gemini 1.5 Pro']\n",
    "\n",
    "confidence_intercval_stat = confidence_intercval(df[df['Exam set and course'].str.contains('ST', na=False)])\n",
    "confidence_intercval_ml = confidence_intercval(df[df['Exam set and course'].str.contains('ML', na=False)])\n",
    "\n",
    "mean_stat = mean_correct(df[df['Exam set and course'].str.contains('ST', na=False)])\n",
    "mean_ml = mean_correct(df[df['Exam set and course'].str.contains('ML', na=False)])\n",
    "\n",
    "stat_error = [(high - low) / 2 for low, high in confidence_intercval_stat]\n",
    "ml_error = [(high - low) / 2 for low, high in confidence_intercval_ml]\n",
    "\n",
    "bar_width = 0.3\n",
    "index = np.arange(len(LLM))\n",
    "\n",
    "fig, ax = plt.subplots()\n",
    "\n",
    "bars2 = ax.bar(index+bar_width, mean_stat, bar_width, yerr=all_error, label='ST exam sets', capsize=5, color='#92CA76')\n",
    "bars3 = ax.bar(index, mean_ml, bar_width, yerr=all_error, label='ML exam sets', capsize=5, color='#CC99CC')\n",
    "\n",
    "ax.set_xlabel('Model')\n",
    "ax.set_ylabel('Accuracy score')\n",
    "ax.set_xticks(index + bar_width/2)\n",
    "ax.set_xticklabels(LLM)\n",
    "ax.legend()\n",
    "\n",
    "plt.tight_layout()\n",
    "# plt.savefig('Bar_plot_course.png', dpi=300, bbox_inches='tight')\n",
    "plt.show()"
   ]
  },
  {
   "cell_type": "code",
   "execution_count": 474,
   "metadata": {},
   "outputs": [
    {
     "data": {
      "text/plain": [
       "(array([ True,  True,  True, False,  True,  True, False, False,  True,\n",
       "         True, False, False]),\n",
       " array([3.10923304e-06, 3.91837827e-04, 1.28516632e-02, 3.36731661e-01,\n",
       "        1.35393194e-02, 2.85837391e-02, 8.19044610e-02, 5.96614896e-01,\n",
       "        2.07183488e-03, 4.63163853e-03, 8.19044610e-02, 4.41679521e-01]))"
      ]
     },
     "execution_count": 474,
     "metadata": {},
     "output_type": "execute_result"
    }
   ],
   "source": [
    "from statsmodels.stats.multitest import fdrcorrection\n",
    "\n",
    "fdrcorrection([2.5910275329631083e-07,6.530630444913366e-05,0.005354859650800294, 0.2806097176983541, 0.006769659696587191, 0.016673847800120715, 0.06142834573984146, 0.5966148958541453, 0.0005179587206971141, 0.001543879508972168, 0.06142834573984146, 0.4048728942871094], alpha=0.05)"
   ]
  }
 ],
 "metadata": {
  "kernelspec": {
   "display_name": "Python 3",
   "language": "python",
   "name": "python3"
  },
  "language_info": {
   "codemirror_mode": {
    "name": "ipython",
    "version": 3
   },
   "file_extension": ".py",
   "mimetype": "text/x-python",
   "name": "python",
   "nbconvert_exporter": "python",
   "pygments_lexer": "ipython3",
   "version": "3.11.5"
  }
 },
 "nbformat": 4,
 "nbformat_minor": 2
}
