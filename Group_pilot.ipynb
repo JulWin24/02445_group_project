{
 "cells": [
  {
   "cell_type": "code",
   "execution_count": 20,
   "metadata": {},
   "outputs": [],
   "source": [
    "import pandas as pd\n",
    "import numpy as np\n",
    "from sklearn.preprocessing import LabelEncoder\n",
    "from statsmodels.stats.proportion import proportion_confint\n",
    "import scipy.stats as st"
   ]
  },
  {
   "cell_type": "code",
   "execution_count": null,
   "metadata": {},
   "outputs": [],
   "source": [
    "data = pd.read_csv('LLM_exam_dataset.csv')\n",
    "data = data.drop(['Unnamed: 2','Unnamed: 6','Unnamed: 10','General promt'], axis=1)\n",
    "data = data[data['Exam set and course'].str.contains('Spring 2023', na=False)]\n",
    "data.head()"
   ]
  },
  {
   "cell_type": "code",
   "execution_count": null,
   "metadata": {},
   "outputs": [],
   "source": [
    "encode = LabelEncoder()\n",
    "data['Correct answer'] = encode.fit_transform(data['Correct answer'])\n",
    "data['Chat GPT 4o'] = encode.fit_transform(data['Chat GPT 4o'])\n",
    "data['Chat GPT 4'] = encode.fit_transform(data['Chat GPT 4'])\n",
    "data['Gemini Advance'] = encode.fit_transform(data['Gemini Advance'])\n",
    "\n",
    "GPT4_correct = data['Chat GPT 4']==data['Correct answer']\n",
    "GPT4o_correct = data['Chat GPT 4o']==data['Correct answer']\n",
    "Gemini_correct = data['Gemini Advance']==data['Correct answer']\n",
    "\n",
    "np.mean(GPT4_correct), np.mean(GPT4o_correct), np.mean(Gemini_correct)"
   ]
  },
  {
   "cell_type": "code",
   "execution_count": null,
   "metadata": {},
   "outputs": [],
   "source": [
    "norm = st.norm()\n",
    "n = 0.561 * (1-0.561) * (norm.ppf(0.025)/0.075)**2\n",
    "n"
   ]
  }
 ],
 "metadata": {
  "kernelspec": {
   "display_name": "Python 3",
   "language": "python",
   "name": "python3"
  },
  "language_info": {
   "codemirror_mode": {
    "name": "ipython",
    "version": 3
   },
   "file_extension": ".py",
   "mimetype": "text/x-python",
   "name": "python",
   "nbconvert_exporter": "python",
   "pygments_lexer": "ipython3",
   "version": "3.11.5"
  }
 },
 "nbformat": 4,
 "nbformat_minor": 2
}
